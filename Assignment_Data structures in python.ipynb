{
  "metadata": {
    "kernelspec": {
      "name": "python",
      "display_name": "Python (Pyodide)",
      "language": "python"
    },
    "language_info": {
      "codemirror_mode": {
        "name": "python",
        "version": 3
      },
      "file_extension": ".py",
      "mimetype": "text/x-python",
      "name": "python",
      "nbconvert_exporter": "python",
      "pygments_lexer": "ipython3",
      "version": "3.8"
    }
  },
  "nbformat_minor": 5,
  "nbformat": 4,
  "cells": [
    {
      "id": "f7eca979-74ca-4124-bf5e-9fa6736c50be",
      "cell_type": "code",
      "source": "#Q1. Write a code to reverse a string\n\ndef reverse_string(s):\n    return s[::-1]\n\n# Example usage\ns = \"hello\"\nprint(\"Reversed string:\", reverse_string(s))\n",
      "metadata": {
        "trusted": true
      },
      "outputs": [
        {
          "name": "stdout",
          "output_type": "stream",
          "text": "Reversed string: olleh\n"
        }
      ],
      "execution_count": 1
    },
    {
      "id": "ac6c1754-ae3a-4891-9216-3b53e64f7298",
      "cell_type": "code",
      "source": "#Q2. Write a code to count the number of vowels in a string.\n\ndef count_vowels(s):\n    vowels = \"aeiouAEIOU\"\n    return sum(1 for char in s if char in vowels)\n\n# Example usage\ns = \"hello\"\nprint(\"Number of vowels:\", count_vowels(s))\n",
      "metadata": {
        "trusted": true
      },
      "outputs": [
        {
          "name": "stdout",
          "output_type": "stream",
          "text": "Number of vowels: 2\n"
        }
      ],
      "execution_count": 2
    },
    {
      "id": "ef18c0f8-20de-4081-ae49-f5a5858df849",
      "cell_type": "code",
      "source": "#Q3. Write a code to check if a given string is a palindrome or not.\n\n\ndef is_palindrome(s):\n    return s == s[::-1]\n\n# Example usage\ns = \"madam\"\nprint(f\"Is '{s}' a palindrome?:\", is_palindrome(s))\n",
      "metadata": {
        "trusted": true
      },
      "outputs": [
        {
          "name": "stdout",
          "output_type": "stream",
          "text": "Is 'madam' a palindrome?: True\n"
        }
      ],
      "execution_count": 3
    },
    {
      "id": "b593c542-29a4-4d87-a89b-55ba495fc143",
      "cell_type": "code",
      "source": "#Q4. Write a code to check if two given strings are anagrams of each other.\n\n\ndef are_anagrams(s1, s2):\n    return sorted(s1) == sorted(s2)\n\n# Example usage\ns1 = \"silent\"\ns2 = \"listen\"\nprint(f\"Are '{s1}' and '{s2}' anagrams?:\", are_anagrams(s1, s2))\n",
      "metadata": {
        "trusted": true
      },
      "outputs": [
        {
          "name": "stdout",
          "output_type": "stream",
          "text": "Are 'silent' and 'listen' anagrams?: True\n"
        }
      ],
      "execution_count": 4
    },
    {
      "id": "b9efdcef-e253-4921-a563-1c4b005dd723",
      "cell_type": "code",
      "source": "#Q5. Write a code to find all occurrences of a given substring within another string.\n\n\ndef find_substring_occurrences(main_str, sub_str):\n    occurrences = []\n    index = main_str.find(sub_str)\n    while index != -1:\n        occurrences.append(index)\n        index = main_str.find(sub_str, index + 1)\n    return occurrences\n\n# Example usage\nmain_str = \"This is a test string. This test is simple.\"\nsub_str = \"test\"\nprint(f\"Occurrences of '{sub_str}' in the string:\", find_substring_occurrences(main_str, sub_str))\n",
      "metadata": {
        "trusted": true
      },
      "outputs": [
        {
          "name": "stdout",
          "output_type": "stream",
          "text": "Occurrences of 'test' in the string: [10, 28]\n"
        }
      ],
      "execution_count": 5
    },
    {
      "id": "606935be-839c-45cc-b249-3c279206c5ff",
      "cell_type": "code",
      "source": "#Q6. Write a code to perform basic string compression using the counts of repeated characters.\n\ndef compress_string(s):\n    compressed = []\n    count = 1\n\n    for i in range(1, len(s)):\n        if s[i] == s[i - 1]:\n            count += 1\n        else:\n            compressed.append(s[i - 1] + str(count))\n            count = 1\n    compressed.append(s[-1] + str(count))\n\n    compressed_str = \"\".join(compressed)\n    return compressed_str if len(compressed_str) < len(s) else s\n\n# Example usage\ns = \"aaabbccccd\"\nprint(\"Compressed string:\", compress_string(s))\n",
      "metadata": {
        "trusted": true
      },
      "outputs": [
        {
          "name": "stdout",
          "output_type": "stream",
          "text": "Compressed string: a3b2c4d1\n"
        }
      ],
      "execution_count": 6
    },
    {
      "id": "0c77a4ff-7773-4ade-b939-627148fe6147",
      "cell_type": "code",
      "source": "#Q7. Write a code to determine if a string has all unique characters.\n\n\ndef has_unique_chars(s):\n    return len(set(s)) == len(s)\n\n# Example usage\ns = \"abcdefg\"\nprint(f\"Does '{s}' have all unique characters?:\", has_unique_chars(s))\n",
      "metadata": {
        "trusted": true
      },
      "outputs": [
        {
          "name": "stdout",
          "output_type": "stream",
          "text": "Does 'abcdefg' have all unique characters?: True\n"
        }
      ],
      "execution_count": 7
    },
    {
      "id": "4b31c74d-ae51-45aa-a32c-85414a12d926",
      "cell_type": "code",
      "source": "#Q8.  Write a code to convert a given string to uppercase or lowercase.\n\n\ndef convert_case(s, to_upper=True):\n    return s.upper() if to_upper else s.lower()\n\n# Example usage\ns = \"Hello World\"\nprint(\"Uppercase:\", convert_case(s, to_upper=True))\nprint(\"Lowercase:\", convert_case(s, to_upper=False))\n",
      "metadata": {
        "trusted": true
      },
      "outputs": [
        {
          "name": "stdout",
          "output_type": "stream",
          "text": "Uppercase: HELLO WORLD\nLowercase: hello world\n"
        }
      ],
      "execution_count": 8
    },
    {
      "id": "3961c060-2e36-4fa8-9a64-0aaad84bf243",
      "cell_type": "code",
      "source": "#Q9.  Write a code to count the number of words in a string.\n\ndef count_words(s):\n    return len(s.split())\n\n# Example usage\ns = \"This is a sample string.\"\nprint(\"Number of words:\", count_words(s))\n",
      "metadata": {
        "trusted": true
      },
      "outputs": [
        {
          "name": "stdout",
          "output_type": "stream",
          "text": "Number of words: 5\n"
        }
      ],
      "execution_count": 9
    },
    {
      "id": "a17d459d-6048-4264-b4a5-0cd2dc32cd9f",
      "cell_type": "code",
      "source": "#Q10. Write a code to concatenate two strings without using the + operator.\n\n\ndef concatenate_strings(s1, s2):\n    return \"{}{}\".format(s1, s2)\n\n# Example usage\ns1 = \"Hello\"\ns2 = \"World\"\nprint(\"Concatenated string:\", concatenate_strings(s1, s2))\n",
      "metadata": {
        "trusted": true
      },
      "outputs": [
        {
          "name": "stdout",
          "output_type": "stream",
          "text": "Concatenated string: HelloWorld\n"
        }
      ],
      "execution_count": 10
    },
    {
      "id": "5a8fc247-de36-4541-af60-ca7699e86c77",
      "cell_type": "code",
      "source": "#Q11. Write a code to remove all occurrences of a specific element from a list.\n\n\ndef remove_occurrences(lst, element):\n    return [x for x in lst if x != element]\n\n# Example usage\nlst = [1, 2, 3, 4, 2, 2, 5]\nelement = 2\nprint(\"List after removing occurrences of\", element, \":\", remove_occurrences(lst, element))\n",
      "metadata": {
        "trusted": true
      },
      "outputs": [
        {
          "name": "stdout",
          "output_type": "stream",
          "text": "List after removing occurrences of 2 : [1, 3, 4, 5]\n"
        }
      ],
      "execution_count": 11
    },
    {
      "id": "85bc4da4-17f0-4394-b874-cef6c4f06ec9",
      "cell_type": "code",
      "source": "#Q12. Implement a code to find the second largest number in a given list of integers.\n\n\ndef second_largest(lst):\n    unique_numbers = list(set(lst))  # Remove duplicates\n    if len(unique_numbers) < 2:\n        return None  # No second largest if only one unique number exists\n    unique_numbers.sort(reverse=True)\n    return unique_numbers[1]\n\n# Example usage\nlst = [10, 20, 4, 45, 99, 99, 50]\nprint(\"Second largest number:\", second_largest(lst))\n",
      "metadata": {
        "trusted": true
      },
      "outputs": [
        {
          "name": "stdout",
          "output_type": "stream",
          "text": "Second largest number: 50\n"
        }
      ],
      "execution_count": 12
    },
    {
      "id": "e46c1488-34fa-48b1-ad4d-99e2a8d2ea0e",
      "cell_type": "code",
      "source": "#Q13. Create a code to count the occurrences of each element in a list and return a dictionary with elements as keys and their counts as values.\n\n\ndef count_occurrences(lst):\n    count_dict = {}\n    for item in lst:\n        count_dict[item] = count_dict.get(item, 0) + 1\n    return count_dict\n\n# Example usage\nlst = [1, 2, 3, 2, 4, 1, 2, 3]\nprint(\"Element occurrences:\", count_occurrences(lst))\n",
      "metadata": {
        "trusted": true
      },
      "outputs": [
        {
          "name": "stdout",
          "output_type": "stream",
          "text": "Element occurrences: {1: 2, 2: 3, 3: 2, 4: 1}\n"
        }
      ],
      "execution_count": 13
    },
    {
      "id": "62b8a8f3-e513-4530-b46b-383d43ed6a3d",
      "cell_type": "code",
      "source": "#Q14. Write a code to reverse a list in-place without using any built-in reverse functions.\n\n\ndef reverse_list(lst):\n    left, right = 0, len(lst) - 1\n    while left < right:\n        lst[left], lst[right] = lst[right], lst[left]\n        left += 1\n        right -= 1\n\n# Example usage\nlst = [1, 2, 3, 4, 5]\nreverse_list(lst)\nprint(\"Reversed list:\", lst)\n",
      "metadata": {
        "trusted": true
      },
      "outputs": [
        {
          "name": "stdout",
          "output_type": "stream",
          "text": "Reversed list: [5, 4, 3, 2, 1]\n"
        }
      ],
      "execution_count": 14
    },
    {
      "id": "6fbd4812-25a4-43ca-8965-59cdc19ebefb",
      "cell_type": "code",
      "source": "#Q15. Implement a code to find and remove duplicates from a list while preserving the original order of elements.\n\n\ndef remove_duplicates(lst):\n    seen = set()\n    unique_list = []\n    for item in lst:\n        if item not in seen:\n            seen.add(item)\n            unique_list.append(item)\n    return unique_list\n\n# Example usage\nlst = [1, 2, 3, 2, 4, 1, 5, 3]\nprint(\"List after removing duplicates:\", remove_duplicates(lst))\n",
      "metadata": {
        "trusted": true
      },
      "outputs": [
        {
          "name": "stdout",
          "output_type": "stream",
          "text": "List after removing duplicates: [1, 2, 3, 4, 5]\n"
        }
      ],
      "execution_count": 15
    },
    {
      "id": "d5c36386-9d4b-4eba-aba0-1063673177d6",
      "cell_type": "code",
      "source": "#Q16. Create a code to check if a given list is sorted (either in ascending or descending order) or not.\n\n\ndef is_sorted(lst):\n    if lst == sorted(lst):\n        return \"Ascending Order\"\n    elif lst == sorted(lst, reverse=True):\n        return \"Descending Order\"\n    else:\n        return \"Not Sorted\"\n\n# Example usage\nlst = [1, 2, 3, 4, 5]\nprint(\"List order:\", is_sorted(lst))\n\nlst2 = [5, 4, 3, 2, 1]\nprint(\"List order:\", is_sorted(lst2))\n\nlst3 = [3, 1, 4, 2, 5]\nprint(\"List order:\", is_sorted(lst3))\n",
      "metadata": {
        "trusted": true
      },
      "outputs": [
        {
          "name": "stdout",
          "output_type": "stream",
          "text": "List order: Ascending Order\nList order: Descending Order\nList order: Not Sorted\n"
        }
      ],
      "execution_count": 16
    },
    {
      "id": "0b80ae47-017e-4d9d-a32e-6c0b9aee6bf9",
      "cell_type": "code",
      "source": "#Q17. Write a code to merge two sorted lists into a single sorted list.\n\n\ndef merge_sorted_lists(lst1, lst2):\n    return sorted(lst1 + lst2)\n\n# Example usage\nlst1 = [1, 3, 5, 7]\nlst2 = [2, 4, 6, 8]\nprint(\"Merged sorted list:\", merge_sorted_lists(lst1, lst2))\n",
      "metadata": {
        "trusted": true
      },
      "outputs": [
        {
          "name": "stdout",
          "output_type": "stream",
          "text": "Merged sorted list: [1, 2, 3, 4, 5, 6, 7, 8]\n"
        }
      ],
      "execution_count": 17
    },
    {
      "id": "3b35e38d-2973-430e-be7c-55b492ad11a5",
      "cell_type": "code",
      "source": "#Q18. Implement a code to find the intersection of two given lists.\n\n\ndef list_intersection(lst1, lst2):\n    return list(set(lst1) & set(lst2))\n\n# Example usage\nlst1 = [1, 2, 3, 4, 5]\nlst2 = [3, 4, 5, 6, 7]\nprint(\"Intersection of lists:\", list_intersection(lst1, lst2))\n",
      "metadata": {
        "trusted": true
      },
      "outputs": [
        {
          "name": "stdout",
          "output_type": "stream",
          "text": "Intersection of lists: [3, 4, 5]\n"
        }
      ],
      "execution_count": 18
    },
    {
      "id": "105935cf-3918-45b8-8e51-13b3d5581046",
      "cell_type": "code",
      "source": "#Q19. Create a code to find the union of two lists without duplicates.\n\n\ndef list_union(lst1, lst2):\n    return list(set(lst1) | set(lst2))\n\n# Example usage\nlst1 = [1, 2, 3, 4, 5]\nlst2 = [3, 4, 5, 6, 7]\nprint(\"Union of lists:\", list_union(lst1, lst2))\n",
      "metadata": {
        "trusted": true
      },
      "outputs": [
        {
          "name": "stdout",
          "output_type": "stream",
          "text": "Union of lists: [1, 2, 3, 4, 5, 6, 7]\n"
        }
      ],
      "execution_count": 19
    },
    {
      "id": "a37d6be9-5005-4a4d-bfae-535d19ef9e17",
      "cell_type": "code",
      "source": "#Q20. Write a code to shuffle a given list randomly without using any built-in shuffle functions.\n\n\nimport random\ndef shuffle_list(lst):\n    shuffled = lst[:]  \n    for i in range(len(shuffled)):\n        j = random.randint(0, len(shuffled) - 1)\n        shuffled[i], shuffled[j] = shuffled[j], shuffled[i]\n    return shuffled\n\n# Example usage\nlst = [1, 2, 3, 4, 5]\nprint(\"Shuffled list:\", shuffle_list(lst))\n\n",
      "metadata": {
        "trusted": true
      },
      "outputs": [
        {
          "name": "stdout",
          "output_type": "stream",
          "text": "Shuffled list: [3, 1, 2, 5, 4]\n"
        }
      ],
      "execution_count": 23
    },
    {
      "id": "5c8613df-617c-4a43-8254-7be490fc0a3b",
      "cell_type": "code",
      "source": "#Q21.  Write a code that takes two tuples as input and returns a new tuple containing elements that are common to both input tuples.\n\n\ndef tuple_intersection(tup1, tup2):\n    return tuple(set(tup1) & set(tup2))\n\n# Example usage\ntup1 = (1, 2, 3, 4, 5)\ntup2 = (3, 4, 5, 6, 7)\nprint(\"Common elements in tuples:\", tuple_intersection(tup1, tup2))\n",
      "metadata": {
        "trusted": true
      },
      "outputs": [
        {
          "name": "stdout",
          "output_type": "stream",
          "text": "Common elements in tuples: (3, 4, 5)\n"
        }
      ],
      "execution_count": 24
    },
    {
      "id": "d1a29aa8-0737-4034-aac8-4c3dd067cc59",
      "cell_type": "code",
      "source": "#Q22.  Create a code that prompts the user to enter two sets of integers separated by commas. Then, print the intersection of these two sets.\n\ndef get_set_intersection():\n    input1 = input(\"Enter first set of numbers separated by commas: \")\n    input2 = input(\"Enter second set of numbers separated by commas: \")\n    set1 = set(map(int, input1.replace(\" \", \"\").split(',')))\n    set2 = set(map(int, input2.replace(\" \", \"\").split(',')))\n\n    print(\"Intersection of sets:\", set1 & set2)\nget_set_intersection()\n\n\n",
      "metadata": {
        "trusted": true
      },
      "outputs": [
        {
          "ename": "<class 'AttributeError'>",
          "evalue": "'PyodideFuture' object has no attribute 'replace'",
          "traceback": [
            "\u001b[0;31m---------------------------------------------------------------------------\u001b[0m",
            "\u001b[0;31mAttributeError\u001b[0m                            Traceback (most recent call last)",
            "Cell \u001b[0;32mIn[34], line 10\u001b[0m\n\u001b[1;32m      7\u001b[0m     set2 \u001b[38;5;241m=\u001b[39m \u001b[38;5;28mset\u001b[39m(\u001b[38;5;28mmap\u001b[39m(\u001b[38;5;28mint\u001b[39m, input2\u001b[38;5;241m.\u001b[39mreplace(\u001b[38;5;124m\"\u001b[39m\u001b[38;5;124m \u001b[39m\u001b[38;5;124m\"\u001b[39m, \u001b[38;5;124m\"\u001b[39m\u001b[38;5;124m\"\u001b[39m)\u001b[38;5;241m.\u001b[39msplit(\u001b[38;5;124m'\u001b[39m\u001b[38;5;124m,\u001b[39m\u001b[38;5;124m'\u001b[39m)))\n\u001b[1;32m      9\u001b[0m     \u001b[38;5;28mprint\u001b[39m(\u001b[38;5;124m\"\u001b[39m\u001b[38;5;124mIntersection of sets:\u001b[39m\u001b[38;5;124m\"\u001b[39m, set1 \u001b[38;5;241m&\u001b[39m set2)\n\u001b[0;32m---> 10\u001b[0m \u001b[43mget_set_intersection\u001b[49m\u001b[43m(\u001b[49m\u001b[43m)\u001b[49m\n",
            "Cell \u001b[0;32mIn[34], line 6\u001b[0m, in \u001b[0;36mget_set_intersection\u001b[0;34m()\u001b[0m\n\u001b[1;32m      4\u001b[0m input1 \u001b[38;5;241m=\u001b[39m \u001b[38;5;28minput\u001b[39m(\u001b[38;5;124m\"\u001b[39m\u001b[38;5;124mEnter first set of numbers separated by commas: \u001b[39m\u001b[38;5;124m\"\u001b[39m)\n\u001b[1;32m      5\u001b[0m input2 \u001b[38;5;241m=\u001b[39m \u001b[38;5;28minput\u001b[39m(\u001b[38;5;124m\"\u001b[39m\u001b[38;5;124mEnter second set of numbers separated by commas: \u001b[39m\u001b[38;5;124m\"\u001b[39m)\n\u001b[0;32m----> 6\u001b[0m set1 \u001b[38;5;241m=\u001b[39m \u001b[38;5;28mset\u001b[39m(\u001b[38;5;28mmap\u001b[39m(\u001b[38;5;28mint\u001b[39m, \u001b[43minput1\u001b[49m\u001b[38;5;241;43m.\u001b[39;49m\u001b[43mreplace\u001b[49m(\u001b[38;5;124m\"\u001b[39m\u001b[38;5;124m \u001b[39m\u001b[38;5;124m\"\u001b[39m, \u001b[38;5;124m\"\u001b[39m\u001b[38;5;124m\"\u001b[39m)\u001b[38;5;241m.\u001b[39msplit(\u001b[38;5;124m'\u001b[39m\u001b[38;5;124m,\u001b[39m\u001b[38;5;124m'\u001b[39m)))\n\u001b[1;32m      7\u001b[0m set2 \u001b[38;5;241m=\u001b[39m \u001b[38;5;28mset\u001b[39m(\u001b[38;5;28mmap\u001b[39m(\u001b[38;5;28mint\u001b[39m, input2\u001b[38;5;241m.\u001b[39mreplace(\u001b[38;5;124m\"\u001b[39m\u001b[38;5;124m \u001b[39m\u001b[38;5;124m\"\u001b[39m, \u001b[38;5;124m\"\u001b[39m\u001b[38;5;124m\"\u001b[39m)\u001b[38;5;241m.\u001b[39msplit(\u001b[38;5;124m'\u001b[39m\u001b[38;5;124m,\u001b[39m\u001b[38;5;124m'\u001b[39m)))\n\u001b[1;32m      9\u001b[0m \u001b[38;5;28mprint\u001b[39m(\u001b[38;5;124m\"\u001b[39m\u001b[38;5;124mIntersection of sets:\u001b[39m\u001b[38;5;124m\"\u001b[39m, set1 \u001b[38;5;241m&\u001b[39m set2)\n",
            "\u001b[0;31mAttributeError\u001b[0m: 'PyodideFuture' object has no attribute 'replace'"
          ],
          "output_type": "error"
        },
        {
          "output_type": "stream",
          "name": "stdin",
          "text": "Enter second set of numbers separated by commas:  0,3,6,7.17,21\n"
        }
      ],
      "execution_count": 34
    },
    {
      "id": "fdb8f9ef-030a-4200-b5e4-9acc4031574c",
      "cell_type": "code",
      "source": "#Q23. Write a code to concatenate two tuples. The function should take two tuples as input and return a new tuple containing elements from both input tuples.\n\ndef concatenate_tuples(tup1, tup2):\n    return tup1 + tup2\n\n# Example usage\ntup1 = (1, 2, 3)\ntup2 = (4, 5, 6)\nprint(\"Concatenated tuple:\", concatenate_tuples(tup1, tup2))\n",
      "metadata": {
        "trusted": true
      },
      "outputs": [
        {
          "name": "stdout",
          "output_type": "stream",
          "text": "Concatenated tuple: (1, 2, 3, 4, 5, 6)\n"
        }
      ],
      "execution_count": 35
    },
    {
      "id": "584bebe7-c8e6-486d-9a6e-a3b93ca086a5",
      "cell_type": "code",
      "source": "#Q24. Develop a code that prompts the user to input two sets of strings. Then, print the elements that are present in the first set but not in the second set.\n\n\ndef set_difference():\n    set1 = set(input(\"Enter first set of strings separated by commas: \").split(','))\n    set2 = set(input(\"Enter second set of strings separated by commas: \").split(','))\n    print(\"Elements in first set but not in second:\", set1 - set2)\n    \n",
      "metadata": {
        "trusted": true
      },
      "outputs": [],
      "execution_count": 37
    },
    {
      "id": "6af11816-e401-4f4a-84dc-484e2e3783ed",
      "cell_type": "code",
      "source": "#Q25. Create a code that takes a tuple and two integers as input. The function should return a new tuple containing elements from the original tuple within the specified range of indices.\n\n\ndef slice_tuple(tup, start, end):\n    return tup[start:end]\n\n# Example usage\ntup = (1, 2, 3, 4, 5, 6, 7, 8)\nstart, end = 2, 6\nprint(\"Sliced tuple:\", slice_tuple(tup, start, end))\n",
      "metadata": {
        "trusted": true
      },
      "outputs": [
        {
          "name": "stdout",
          "output_type": "stream",
          "text": "Sliced tuple: (3, 4, 5, 6)\n"
        }
      ],
      "execution_count": 38
    },
    {
      "id": "d300140a-419f-4ea5-b3ad-32e96b6bd073",
      "cell_type": "code",
      "source": "#Q26. Write a code that prompts the user to input two sets of characters. Then, print the union of these two sets.\n\n\ndef set_union():\n    set1 = set(input(\"Enter first set of characters separated by commas: \").split(','))\n    set2 = set(input(\"Enter second set of characters separated by commas: \").split(','))\n    print(\"Union of sets:\", set1 | set2)\n\n#I don't know why this type of codes are not executing on my jupyter notebook. I have installed jupyter notebook on my windows 11 laptop.",
      "metadata": {
        "trusted": true
      },
      "outputs": [],
      "execution_count": 44
    },
    {
      "id": "a1121694-8c9d-42c9-b69d-1a332794c94e",
      "cell_type": "code",
      "source": "#Q27.  Develop a code that takes a tuple of integers as input. The function should return the maximum and minimum values from the tuple using tuple unpacking.\n\n\ndef max_min_tuple(tup):\n    return max(tup), min(tup)\n\n# Example usage\ntup = (10, 20, 5, 8, 25)\nmax_val, min_val = max_min_tuple(tup)\nprint(\"Max:\", max_val, \"Min:\", min_val)\n",
      "metadata": {
        "trusted": true
      },
      "outputs": [
        {
          "name": "stdout",
          "output_type": "stream",
          "text": "Max: 25 Min: 5\n"
        }
      ],
      "execution_count": 45
    },
    {
      "id": "6d4ff0b4-5094-4173-ad5a-37766f6572c4",
      "cell_type": "code",
      "source": "#Q28. Create a code that defines two sets of integers. Then, print the union, intersection, and difference of these two sets.\n\n\ndef set_operations(set1, set2):\n    print(\"Union:\", set1 | set2)\n    print(\"Intersection:\", set1 & set2)\n    print(\"Difference (set1 - set2):\", set1 - set2)\n\n# Example usage\nset1 = {1, 2, 3, 4}\nset2 = {3, 4, 5, 6}\nset_operations(set1, set2)\n",
      "metadata": {
        "trusted": true
      },
      "outputs": [
        {
          "name": "stdout",
          "output_type": "stream",
          "text": "Union: {1, 2, 3, 4, 5, 6}\nIntersection: {3, 4}\nDifference (set1 - set2): {1, 2}\n"
        }
      ],
      "execution_count": 46
    },
    {
      "id": "15605032-5a4c-4197-ac12-8549843f15ed",
      "cell_type": "code",
      "source": "#Q29. Write a code that takes a tuple and an element as input. The function should return the count of occurrences of the given element in the tuple.\n\n\ndef count_element(tup, element):\n    return tup.count(element)\n\n# Example usage\ntup = (1, 2, 3, 2, 4, 2, 5)\nelement = 2\nprint(f\"Occurrences of {element}:\", count_element(tup, element))\n",
      "metadata": {
        "trusted": true
      },
      "outputs": [
        {
          "name": "stdout",
          "output_type": "stream",
          "text": "Occurrences of 2: 3\n"
        }
      ],
      "execution_count": 47
    },
    {
      "id": "7adea27a-acb6-4e07-b1b8-d591c37009a2",
      "cell_type": "code",
      "source": "#Q30. Develop a code that prompts the user to input two sets of strings. Then, print the symmetric difference of these two sets.\n\n\ndef set_symmetric_difference():\n    set1 = set(input(\"Enter first set of strings separated by commas: \").split(','))\n    set2 = set(input(\"Enter second set of strings separated by commas: \").split(','))\n    print(\"Symmetric difference of sets:\", set1 ^ set2)\n",
      "metadata": {
        "trusted": true
      },
      "outputs": [],
      "execution_count": 49
    },
    {
      "id": "8ba95a31-96b6-4071-b171-9f9d3c433cf9",
      "cell_type": "code",
      "source": "#Q31. Write a code that takes a list of words as input and returns a dictionary where the keys are unique words and the values are the frequencies of those words in the input list.\n\n\ndef word_frequencies(words):\n    freq_dict = {}\n    for word in words:\n        freq_dict[word] = freq_dict.get(word, 0) + 1\n    return freq_dict\n\n# Example usage\nwords = [\"apple\", \"banana\", \"apple\", \"orange\", \"banana\", \"apple\"]\nprint(\"Word frequencies:\", word_frequencies(words))\n",
      "metadata": {
        "trusted": true
      },
      "outputs": [
        {
          "name": "stdout",
          "output_type": "stream",
          "text": "Word frequencies: {'apple': 3, 'banana': 2, 'orange': 1}\n"
        }
      ],
      "execution_count": 50
    },
    {
      "id": "e31a0371-80de-449d-9f21-627cf2c55748",
      "cell_type": "code",
      "source": "#Q32. Write a code that takes two dictionaries as input and merges them into a single dictionary. If there are common keys, the values should be added together.\n\n\ndef merge_dicts(dict1, dict2):\n    merged = dict1.copy()\n    for key, value in dict2.items():\n        merged[key] = merged.get(key, 0) + value\n    return merged\n\n# Example usage\ndict1 = {'a': 2, 'b': 3, 'c': 5}\ndict2 = {'b': 4, 'c': 1, 'd': 7}\nprint(\"Merged dictionary:\", merge_dicts(dict1, dict2))\n",
      "metadata": {
        "trusted": true
      },
      "outputs": [
        {
          "name": "stdout",
          "output_type": "stream",
          "text": "Merged dictionary: {'a': 2, 'b': 7, 'c': 6, 'd': 7}\n"
        }
      ],
      "execution_count": 51
    },
    {
      "id": "3353739e-7c8f-4cf8-9320-2f1dbcafddfb",
      "cell_type": "code",
      "source": "#Q33. Write a code to access a value in a nested dictionary. The function should take the dictionary and a list of keys as input, and return the corresponding value. If any of the keys do not exist in the dictionary, the function should return None.\n\n\ndef get_nested_value(dictionary, keys):\n    value = dictionary\n    for key in keys:\n        if isinstance(value, dict) and key in value:\n            value = value[key]\n        else:\n            return None\n    return value\n\n# Example usage\nnested_dict = {'a': {'b': {'c': 42}}}\nkeys = ['a', 'b', 'c']\nprint(\"Nested value:\", get_nested_value(nested_dict, keys))\n",
      "metadata": {
        "trusted": true
      },
      "outputs": [
        {
          "name": "stdout",
          "output_type": "stream",
          "text": "Nested value: 42\n"
        }
      ],
      "execution_count": 52
    },
    {
      "id": "059f975f-8e5f-49fd-8b4c-f1de82829bbd",
      "cell_type": "code",
      "source": "#Q34. Write a code that takes a dictionary as input and returns a sorted version of it based on the values. You can choose whether to sort in ascending or descending order.\n\n\ndef sort_dict_by_value(dictionary, ascending=True):\n    return dict(sorted(dictionary.items(), key=lambda x: x[1], reverse=not ascending))\n\n# Example usage\ndata = {'apple': 5, 'banana': 2, 'orange': 8}\nprint(\"Sorted dictionary (ascending):\", sort_dict_by_value(data, ascending=True))\nprint(\"Sorted dictionary (descending):\", sort_dict_by_value(data, ascending=False))\n",
      "metadata": {
        "trusted": true
      },
      "outputs": [
        {
          "name": "stdout",
          "output_type": "stream",
          "text": "Sorted dictionary (ascending): {'banana': 2, 'apple': 5, 'orange': 8}\nSorted dictionary (descending): {'orange': 8, 'apple': 5, 'banana': 2}\n"
        }
      ],
      "execution_count": 53
    },
    {
      "id": "a358a139-216f-429a-b3a2-fb9c5c48d9a2",
      "cell_type": "code",
      "source": "#Q35. Write a code that inverts a dictionary, swapping keys and values. Ensure that the inverted dictionary correctly handles cases where multiple keys have the same value by storing the keys as a list in the inverted dictionary.\n\n\ndef invert_dict(dictionary):\n    inverted = {}\n    for key, value in dictionary.items():\n        inverted.setdefault(value, []).append(key)\n    return inverted\n\n# Example usage\ndata = {'a': 1, 'b': 2, 'c': 1, 'd': 3}\nprint(\"Inverted dictionary:\", invert_dict(data))\n",
      "metadata": {
        "trusted": true
      },
      "outputs": [
        {
          "name": "stdout",
          "output_type": "stream",
          "text": "Inverted dictionary: {1: ['a', 'c'], 2: ['b'], 3: ['d']}\n"
        }
      ],
      "execution_count": 54
    },
    {
      "id": "aaf2f058-8a9b-4cfb-a3d6-8c08d1f2cd8a",
      "cell_type": "code",
      "source": "",
      "metadata": {
        "trusted": true
      },
      "outputs": [],
      "execution_count": null
    }
  ]
}